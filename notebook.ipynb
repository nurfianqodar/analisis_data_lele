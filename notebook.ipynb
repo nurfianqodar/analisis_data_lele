{
 "cells": [
  {
   "cell_type": "markdown",
   "metadata": {},
   "source": [
    "# **Analisis Data Penelitian Lele**"
   ]
  },
  {
   "cell_type": "code",
   "execution_count": null,
   "metadata": {},
   "outputs": [],
   "source": [
    "import pandas as pd\n",
    "import numpy as np\n",
    "import matplotlib.pyplot as plt\n",
    "import seaborn as sns\n",
    "from IPython.display import display, Markdown"
   ]
  },
  {
   "cell_type": "markdown",
   "metadata": {},
   "source": [
    "## **Data Gathering**"
   ]
  },
  {
   "cell_type": "code",
   "execution_count": null,
   "metadata": {},
   "outputs": [],
   "source": [
    "excel = pd.read_excel(\n",
    "    \"https://github.com/nurfianqodar/analisis_data_lele/raw/main/data_percobaan_lele_maggot.xlsx\",\n",
    "    sheet_name=[\"DATA PANJANG DAN LEBAR\", \"DATA BOBOT\"],\n",
    ")"
   ]
  },
  {
   "cell_type": "code",
   "execution_count": null,
   "metadata": {},
   "outputs": [],
   "source": [
    "raw_df_pl = excel[\"DATA PANJANG DAN LEBAR\"].reset_index()\n",
    "raw_df_bobot = excel[\"DATA BOBOT\"].reset_index()"
   ]
  },
  {
   "cell_type": "markdown",
   "metadata": {},
   "source": [
    "_Beberapa Sample Data Panjang dan Lebar_"
   ]
  },
  {
   "cell_type": "code",
   "execution_count": null,
   "metadata": {},
   "outputs": [],
   "source": [
    "raw_df_pl.sample(5)"
   ]
  },
  {
   "cell_type": "markdown",
   "metadata": {},
   "source": [
    "_Beberapa Sample Data Bobot_"
   ]
  },
  {
   "cell_type": "code",
   "execution_count": null,
   "metadata": {},
   "outputs": [],
   "source": [
    "raw_df_bobot.sample(5)"
   ]
  },
  {
   "cell_type": "markdown",
   "metadata": {},
   "source": [
    "### Menambahkan Kolom Perlakuan Dan Ulangan Sesuai Identifier"
   ]
  },
  {
   "cell_type": "markdown",
   "metadata": {},
   "source": [
    "_Menghapus kolom \"Identifier\" (tIdak diperlukan dalam analisis)_\n",
    "\n",
    "_Mengganti semua nama kolom kedalam snake case_\n",
    "\n",
    "**Keterangan Treatment**\n",
    "- TA : Perlakuan A\n",
    "- TB : Perlakuan B\n",
    "- TC : Perlakuan C\n",
    "\n",
    "**Keterangan Repetition**\n",
    "- R1 : Ulangan Ke-1\n",
    "- R2 : Ulangan Ke-2\n",
    "- R3 : Ulangan Ke-3\n",
    "- R4 : Ulangan Ke-4\n",
    "- R5 : Ulangan Ke-5"
   ]
  },
  {
   "cell_type": "code",
   "execution_count": null,
   "metadata": {},
   "outputs": [],
   "source": [
    "def create_treatment_repetition(identifier):\n",
    "    treatment = f\"T{identifier[0]}\"\n",
    "    repetition = f\"R{identifier[1]}\"\n",
    "    return treatment, repetition"
   ]
  },
  {
   "cell_type": "code",
   "execution_count": null,
   "metadata": {},
   "outputs": [],
   "source": [
    "raw_df_bobot[[\"treatment\", \"repetition\"]] = (\n",
    "    raw_df_bobot[\"Identifier\"].apply(create_treatment_repetition).apply(pd.Series)\n",
    ")\n",
    "raw_df_bobot.drop(columns=[\"Identifier\"], inplace=True)\n",
    "raw_df_bobot.sample(5)"
   ]
  },
  {
   "cell_type": "code",
   "execution_count": null,
   "metadata": {},
   "outputs": [],
   "source": [
    "bobot_col_rename = {\"Date\": \"date\", \"Weight (gram)\": \"weight_in_gram\"}\n",
    "\n",
    "raw_df_bobot = raw_df_bobot.rename(columns=bobot_col_rename)\n",
    "raw_df_bobot.sample(5)"
   ]
  },
  {
   "cell_type": "code",
   "execution_count": null,
   "metadata": {},
   "outputs": [],
   "source": [
    "raw_df_pl[[\"treatment\", \"repetition\"]] = (\n",
    "    raw_df_pl[\"Identifier\"].apply(create_treatment_repetition).apply(pd.Series)\n",
    ")\n",
    "\n",
    "raw_df_pl.drop(columns=[\"Identifier\"], inplace=True)\n",
    "raw_df_pl.sample(5)"
   ]
  },
  {
   "cell_type": "code",
   "execution_count": null,
   "metadata": {},
   "outputs": [],
   "source": [
    "pl_col_rename = {\n",
    "    \"Date\": \"date\",\n",
    "    \"Width (cm)\": \"width_in_cm\",\n",
    "    \"Length (cm)\": \"length_in_cm\",\n",
    "}\n",
    "raw_df_pl = raw_df_pl.rename(columns=pl_col_rename)\n",
    "raw_df_pl.sample(5)"
   ]
  },
  {
   "cell_type": "markdown",
   "metadata": {},
   "source": [
    "## **Analisis Data Panjang Lele**"
   ]
  },
  {
   "cell_type": "code",
   "execution_count": null,
   "metadata": {},
   "outputs": [],
   "source": [
    "df_panjang = raw_df_pl[[\"index\", \"date\", \"treatment\", \"repetition\", \"length_in_cm\"]]\n",
    "df_panjang.sample(5)"
   ]
  },
  {
   "cell_type": "markdown",
   "metadata": {},
   "source": [
    "### Rata-Rata Panjang Pada Setiap Perlakuan"
   ]
  },
  {
   "cell_type": "code",
   "execution_count": null,
   "metadata": {},
   "outputs": [],
   "source": [
    "panjang_mean = (\n",
    "    df_panjang.groupby(by=[\"date\", \"treatment\"])[\"length_in_cm\"].mean().reset_index()\n",
    ")\n",
    "\n",
    "panjang_mean"
   ]
  },
  {
   "cell_type": "code",
   "execution_count": null,
   "metadata": {},
   "outputs": [],
   "source": [
    "plt.figure(figsize=(10, 5))\n",
    "\n",
    "sns.lineplot(data=panjang_mean, x=\"date\", y=\"length_in_cm\", hue=\"treatment\", marker=\"o\")\n",
    "\n",
    "plt.title(\"Rata-Rata Pertumbuhan Panjang Lele Pada Setiap Perlakuan\")\n",
    "plt.xlabel(\"Tanggal\")\n",
    "plt.xticks(rotation=45, ha=\"right\")\n",
    "plt.ylabel(\"Panjang (cm)\")\n",
    "\n",
    "plt.show()"
   ]
  },
  {
   "cell_type": "markdown",
   "metadata": {},
   "source": [
    "### Nilai Statistik Pada Panjang Lele"
   ]
  },
  {
   "cell_type": "code",
   "execution_count": null,
   "metadata": {},
   "outputs": [],
   "source": [
    "df_panjang.groupby([\"date\", \"treatment\"])[\"length_in_cm\"].describe(include=\"all\")"
   ]
  },
  {
   "cell_type": "markdown",
   "metadata": {},
   "source": [
    "## **Analisis Data Lebar Lele**"
   ]
  },
  {
   "cell_type": "code",
   "execution_count": null,
   "metadata": {},
   "outputs": [],
   "source": [
    "df_lebar = raw_df_pl[[\"index\", \"date\", \"treatment\", \"repetition\", \"width_in_cm\"]]\n",
    "df_lebar.sample(5)"
   ]
  },
  {
   "cell_type": "markdown",
   "metadata": {},
   "source": [
    "### Rata-Rata Lebar Pada Setiap Perlakuan"
   ]
  },
  {
   "cell_type": "code",
   "execution_count": null,
   "metadata": {},
   "outputs": [],
   "source": [
    "lebar_mean = (\n",
    "    df_lebar.groupby(by=[\"date\", \"treatment\"])[\"width_in_cm\"].mean().reset_index()\n",
    ")\n",
    "\n",
    "lebar_mean"
   ]
  },
  {
   "cell_type": "code",
   "execution_count": null,
   "metadata": {},
   "outputs": [],
   "source": [
    "plt.figure(figsize=(10, 5))\n",
    "\n",
    "sns.lineplot(data=lebar_mean, x=\"date\", y=\"width_in_cm\", hue=\"treatment\", marker=\"o\")\n",
    "\n",
    "plt.title(\"Rata-Rata Pertumbuhan Lebar Lele Pada Setiap Perlakuan\")\n",
    "plt.xlabel(\"Tanggal\")\n",
    "plt.xticks(rotation=45, ha=\"right\")\n",
    "plt.ylabel(\"Lebar (cm)\")\n",
    "\n",
    "plt.show()"
   ]
  },
  {
   "cell_type": "markdown",
   "metadata": {},
   "source": [
    "### Nilai Statistik Pada Lebar Lele"
   ]
  },
  {
   "cell_type": "code",
   "execution_count": null,
   "metadata": {},
   "outputs": [],
   "source": [
    "df_lebar.groupby([\"date\", \"treatment\"])[\"width_in_cm\"].describe(include=\"all\")"
   ]
  },
  {
   "cell_type": "markdown",
   "metadata": {},
   "source": [
    "## **Analisis Data Bobot Lele**"
   ]
  },
  {
   "cell_type": "code",
   "execution_count": null,
   "metadata": {},
   "outputs": [],
   "source": [
    "df_bobot = raw_df_bobot[[\"index\", \"date\", \"treatment\", \"repetition\", \"weight_in_gram\"]]\n",
    "df_bobot.sample(5)"
   ]
  },
  {
   "cell_type": "code",
   "execution_count": null,
   "metadata": {},
   "outputs": [],
   "source": [
    "bobot_mean = (\n",
    "    df_bobot.groupby(by=[\"date\", \"treatment\"])[\"weight_in_gram\"].mean().reset_index()\n",
    ")\n",
    "\n",
    "bobot_mean"
   ]
  },
  {
   "cell_type": "code",
   "execution_count": null,
   "metadata": {},
   "outputs": [],
   "source": [
    "plt.figure(figsize=(10, 5))\n",
    "\n",
    "sns.lineplot(data=bobot_mean, x=\"date\", y=\"weight_in_gram\", hue=\"treatment\", marker=\"o\")\n",
    "\n",
    "plt.title(\"Rata-Rata Pertumbuhan Bobot Lele Pada Setiap Perlakuan\")\n",
    "plt.xlabel(\"Tanggal\")\n",
    "plt.xticks(rotation=45, ha=\"right\")\n",
    "plt.ylabel(\"Bobot (gram)\")\n",
    "\n",
    "plt.show()"
   ]
  },
  {
   "cell_type": "markdown",
   "metadata": {},
   "source": [
    "### Nilai Statistik Pada Bobot Lele"
   ]
  },
  {
   "cell_type": "code",
   "execution_count": null,
   "metadata": {},
   "outputs": [],
   "source": [
    "df_bobot.groupby([\"date\", \"treatment\"])[\"weight_in_gram\"].describe()"
   ]
  }
 ],
 "metadata": {
  "kernelspec": {
   "display_name": "venv",
   "language": "python",
   "name": "python3"
  },
  "language_info": {
   "codemirror_mode": {
    "name": "ipython",
    "version": 3
   },
   "file_extension": ".py",
   "mimetype": "text/x-python",
   "name": "python",
   "nbconvert_exporter": "python",
   "pygments_lexer": "ipython3",
   "version": "3.12.4"
  }
 },
 "nbformat": 4,
 "nbformat_minor": 2
}
