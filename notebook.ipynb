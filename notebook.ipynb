{
 "cells": [
  {
   "cell_type": "markdown",
   "metadata": {},
   "source": [
    "# **Analisis Data Percobaan Lele Maggot**"
   ]
  },
  {
   "cell_type": "code",
   "execution_count": 1,
   "metadata": {},
   "outputs": [],
   "source": [
    "import pandas as pd\n",
    "import numpy as np\n",
    "from datetime import date"
   ]
  },
  {
   "cell_type": "markdown",
   "metadata": {},
   "source": [
    "## Pengumpulan Data"
   ]
  },
  {
   "cell_type": "code",
   "execution_count": 2,
   "metadata": {},
   "outputs": [],
   "source": [
    "excel = pd.read_excel(\n",
    "    \"https://github.com/nurfianqodar/analisis_data_lele/raw/main/data_percobaan_lele_maggot.xlsx\",\n",
    "    sheet_name=[\"DATA PANJANG DAN LEBAR\", \"DATA BOBOT\"],\n",
    ")"
   ]
  },
  {
   "cell_type": "markdown",
   "metadata": {},
   "source": [
    "## Ringkasan Informasi Data"
   ]
  },
  {
   "cell_type": "markdown",
   "metadata": {},
   "source": [
    "### Data Bobot Lele"
   ]
  },
  {
   "cell_type": "code",
   "execution_count": 3,
   "metadata": {},
   "outputs": [
    {
     "name": "stdout",
     "output_type": "stream",
     "text": [
      "<class 'pandas.core.frame.DataFrame'>\n",
      "RangeIndex: 45 entries, 0 to 44\n",
      "Data columns (total 3 columns):\n",
      " #   Column         Non-Null Count  Dtype         \n",
      "---  ------         --------------  -----         \n",
      " 0   Identifier     45 non-null     object        \n",
      " 1   Date           45 non-null     datetime64[ns]\n",
      " 2   Weight (gram)  45 non-null     int64         \n",
      "dtypes: datetime64[ns](1), int64(1), object(1)\n",
      "memory usage: 1.2+ KB\n"
     ]
    }
   ],
   "source": [
    "df_bobot = excel[\"DATA BOBOT\"]\n",
    "df_bobot.info()"
   ]
  },
  {
   "cell_type": "code",
   "execution_count": 4,
   "metadata": {},
   "outputs": [
    {
     "data": {
      "text/plain": [
       "count     45.000000\n",
       "mean     246.444444\n",
       "std       56.333244\n",
       "min      120.000000\n",
       "25%      210.000000\n",
       "50%      250.000000\n",
       "75%      290.000000\n",
       "max      350.000000\n",
       "Name: Weight (gram), dtype: float64"
      ]
     },
     "execution_count": 4,
     "metadata": {},
     "output_type": "execute_result"
    }
   ],
   "source": [
    "df_bobot[\"Weight (gram)\"].describe()"
   ]
  },
  {
   "cell_type": "markdown",
   "metadata": {},
   "source": [
    "### Data Panjang dan Lebar Lele"
   ]
  },
  {
   "cell_type": "code",
   "execution_count": 5,
   "metadata": {},
   "outputs": [
    {
     "name": "stdout",
     "output_type": "stream",
     "text": [
      "<class 'pandas.core.frame.DataFrame'>\n",
      "RangeIndex: 180 entries, 0 to 179\n",
      "Data columns (total 4 columns):\n",
      " #   Column       Non-Null Count  Dtype         \n",
      "---  ------       --------------  -----         \n",
      " 0   Identifier   180 non-null    object        \n",
      " 1   Date         180 non-null    datetime64[ns]\n",
      " 2   Width (cm)   180 non-null    float64       \n",
      " 3   Length (cm)  180 non-null    float64       \n",
      "dtypes: datetime64[ns](1), float64(2), object(1)\n",
      "memory usage: 5.8+ KB\n"
     ]
    }
   ],
   "source": [
    "df_pl = excel[\"DATA PANJANG DAN LEBAR\"]\n",
    "df_pl.info()"
   ]
  },
  {
   "cell_type": "code",
   "execution_count": 6,
   "metadata": {},
   "outputs": [
    {
     "data": {
      "text/html": [
       "<div>\n",
       "<style scoped>\n",
       "    .dataframe tbody tr th:only-of-type {\n",
       "        vertical-align: middle;\n",
       "    }\n",
       "\n",
       "    .dataframe tbody tr th {\n",
       "        vertical-align: top;\n",
       "    }\n",
       "\n",
       "    .dataframe thead th {\n",
       "        text-align: right;\n",
       "    }\n",
       "</style>\n",
       "<table border=\"1\" class=\"dataframe\">\n",
       "  <thead>\n",
       "    <tr style=\"text-align: right;\">\n",
       "      <th></th>\n",
       "      <th>Length (cm)</th>\n",
       "      <th>Width (cm)</th>\n",
       "    </tr>\n",
       "  </thead>\n",
       "  <tbody>\n",
       "    <tr>\n",
       "      <th>count</th>\n",
       "      <td>180.000000</td>\n",
       "      <td>180.000000</td>\n",
       "    </tr>\n",
       "    <tr>\n",
       "      <th>mean</th>\n",
       "      <td>19.602778</td>\n",
       "      <td>2.836111</td>\n",
       "    </tr>\n",
       "    <tr>\n",
       "      <th>std</th>\n",
       "      <td>2.902848</td>\n",
       "      <td>0.613695</td>\n",
       "    </tr>\n",
       "    <tr>\n",
       "      <th>min</th>\n",
       "      <td>14.000000</td>\n",
       "      <td>2.000000</td>\n",
       "    </tr>\n",
       "    <tr>\n",
       "      <th>25%</th>\n",
       "      <td>17.000000</td>\n",
       "      <td>2.500000</td>\n",
       "    </tr>\n",
       "    <tr>\n",
       "      <th>50%</th>\n",
       "      <td>19.000000</td>\n",
       "      <td>3.000000</td>\n",
       "    </tr>\n",
       "    <tr>\n",
       "      <th>75%</th>\n",
       "      <td>21.000000</td>\n",
       "      <td>3.000000</td>\n",
       "    </tr>\n",
       "    <tr>\n",
       "      <th>max</th>\n",
       "      <td>29.000000</td>\n",
       "      <td>4.000000</td>\n",
       "    </tr>\n",
       "  </tbody>\n",
       "</table>\n",
       "</div>"
      ],
      "text/plain": [
       "       Length (cm)  Width (cm)\n",
       "count   180.000000  180.000000\n",
       "mean     19.602778    2.836111\n",
       "std       2.902848    0.613695\n",
       "min      14.000000    2.000000\n",
       "25%      17.000000    2.500000\n",
       "50%      19.000000    3.000000\n",
       "75%      21.000000    3.000000\n",
       "max      29.000000    4.000000"
      ]
     },
     "execution_count": 6,
     "metadata": {},
     "output_type": "execute_result"
    }
   ],
   "source": [
    "df_pl[[\"Length (cm)\", \"Width (cm)\"]].describe()"
   ]
  },
  {
   "cell_type": "markdown",
   "metadata": {},
   "source": [
    "## Cleaning Data"
   ]
  },
  {
   "cell_type": "markdown",
   "metadata": {},
   "source": [
    "### Data Panjang dan Lebar Lele"
   ]
  },
  {
   "cell_type": "markdown",
   "metadata": {},
   "source": [
    "#### Penambahan Index Repetition dan Teratment"
   ]
  },
  {
   "cell_type": "code",
   "execution_count": 7,
   "metadata": {},
   "outputs": [],
   "source": [
    "def create_treatment_repetition(identifier):\n",
    "    treatment = f\"T{identifier[0]}\"\n",
    "    repetition = f\"R{identifier[1]}\"\n",
    "    return treatment, repetition\n",
    "\n",
    "\n",
    "df_bobot[[\"Treatment\", \"Repetition\"]] = (\n",
    "    df_bobot[\"Identifier\"].apply(create_treatment_repetition).apply(pd.Series)\n",
    ")\n",
    "\n",
    "df_pl[[\"Treatment\", \"Repetition\"]] = (\n",
    "    df_pl[\"Identifier\"].apply(create_treatment_repetition).apply(pd.Series)\n",
    ")"
   ]
  },
  {
   "cell_type": "code",
   "execution_count": 8,
   "metadata": {},
   "outputs": [
    {
     "data": {
      "text/html": [
       "<div>\n",
       "<style scoped>\n",
       "    .dataframe tbody tr th:only-of-type {\n",
       "        vertical-align: middle;\n",
       "    }\n",
       "\n",
       "    .dataframe tbody tr th {\n",
       "        vertical-align: top;\n",
       "    }\n",
       "\n",
       "    .dataframe thead th {\n",
       "        text-align: right;\n",
       "    }\n",
       "</style>\n",
       "<table border=\"1\" class=\"dataframe\">\n",
       "  <thead>\n",
       "    <tr style=\"text-align: right;\">\n",
       "      <th></th>\n",
       "      <th>Identifier</th>\n",
       "      <th>Date</th>\n",
       "      <th>Weight (gram)</th>\n",
       "      <th>Treatment</th>\n",
       "      <th>Repetition</th>\n",
       "    </tr>\n",
       "  </thead>\n",
       "  <tbody>\n",
       "    <tr>\n",
       "      <th>40</th>\n",
       "      <td>B5</td>\n",
       "      <td>2024-08-14</td>\n",
       "      <td>300</td>\n",
       "      <td>TB</td>\n",
       "      <td>R5</td>\n",
       "    </tr>\n",
       "    <tr>\n",
       "      <th>41</th>\n",
       "      <td>A2</td>\n",
       "      <td>2024-08-14</td>\n",
       "      <td>210</td>\n",
       "      <td>TA</td>\n",
       "      <td>R2</td>\n",
       "    </tr>\n",
       "    <tr>\n",
       "      <th>42</th>\n",
       "      <td>C4</td>\n",
       "      <td>2024-08-14</td>\n",
       "      <td>190</td>\n",
       "      <td>TC</td>\n",
       "      <td>R4</td>\n",
       "    </tr>\n",
       "    <tr>\n",
       "      <th>43</th>\n",
       "      <td>B2</td>\n",
       "      <td>2024-08-14</td>\n",
       "      <td>250</td>\n",
       "      <td>TB</td>\n",
       "      <td>R2</td>\n",
       "    </tr>\n",
       "    <tr>\n",
       "      <th>44</th>\n",
       "      <td>A5</td>\n",
       "      <td>2024-08-14</td>\n",
       "      <td>200</td>\n",
       "      <td>TA</td>\n",
       "      <td>R5</td>\n",
       "    </tr>\n",
       "  </tbody>\n",
       "</table>\n",
       "</div>"
      ],
      "text/plain": [
       "   Identifier       Date  Weight (gram) Treatment Repetition\n",
       "40         B5 2024-08-14            300        TB         R5\n",
       "41         A2 2024-08-14            210        TA         R2\n",
       "42         C4 2024-08-14            190        TC         R4\n",
       "43         B2 2024-08-14            250        TB         R2\n",
       "44         A5 2024-08-14            200        TA         R5"
      ]
     },
     "execution_count": 8,
     "metadata": {},
     "output_type": "execute_result"
    }
   ],
   "source": [
    "df_bobot.tail()"
   ]
  },
  {
   "cell_type": "code",
   "execution_count": 9,
   "metadata": {},
   "outputs": [
    {
     "data": {
      "text/html": [
       "<div>\n",
       "<style scoped>\n",
       "    .dataframe tbody tr th:only-of-type {\n",
       "        vertical-align: middle;\n",
       "    }\n",
       "\n",
       "    .dataframe tbody tr th {\n",
       "        vertical-align: top;\n",
       "    }\n",
       "\n",
       "    .dataframe thead th {\n",
       "        text-align: right;\n",
       "    }\n",
       "</style>\n",
       "<table border=\"1\" class=\"dataframe\">\n",
       "  <thead>\n",
       "    <tr style=\"text-align: right;\">\n",
       "      <th></th>\n",
       "      <th>Identifier</th>\n",
       "      <th>Date</th>\n",
       "      <th>Width (cm)</th>\n",
       "      <th>Length (cm)</th>\n",
       "      <th>Treatment</th>\n",
       "      <th>Repetition</th>\n",
       "    </tr>\n",
       "  </thead>\n",
       "  <tbody>\n",
       "    <tr>\n",
       "      <th>175</th>\n",
       "      <td>B2</td>\n",
       "      <td>2024-08-14</td>\n",
       "      <td>4.0</td>\n",
       "      <td>27.0</td>\n",
       "      <td>TB</td>\n",
       "      <td>R2</td>\n",
       "    </tr>\n",
       "    <tr>\n",
       "      <th>176</th>\n",
       "      <td>A5</td>\n",
       "      <td>2024-08-14</td>\n",
       "      <td>3.5</td>\n",
       "      <td>23.0</td>\n",
       "      <td>TA</td>\n",
       "      <td>R5</td>\n",
       "    </tr>\n",
       "    <tr>\n",
       "      <th>177</th>\n",
       "      <td>A5</td>\n",
       "      <td>2024-08-14</td>\n",
       "      <td>2.5</td>\n",
       "      <td>18.0</td>\n",
       "      <td>TA</td>\n",
       "      <td>R5</td>\n",
       "    </tr>\n",
       "    <tr>\n",
       "      <th>178</th>\n",
       "      <td>A5</td>\n",
       "      <td>2024-08-14</td>\n",
       "      <td>2.5</td>\n",
       "      <td>19.0</td>\n",
       "      <td>TA</td>\n",
       "      <td>R5</td>\n",
       "    </tr>\n",
       "    <tr>\n",
       "      <th>179</th>\n",
       "      <td>A5</td>\n",
       "      <td>2024-08-14</td>\n",
       "      <td>2.5</td>\n",
       "      <td>17.0</td>\n",
       "      <td>TA</td>\n",
       "      <td>R5</td>\n",
       "    </tr>\n",
       "  </tbody>\n",
       "</table>\n",
       "</div>"
      ],
      "text/plain": [
       "    Identifier       Date  Width (cm)  Length (cm) Treatment Repetition\n",
       "175         B2 2024-08-14         4.0         27.0        TB         R2\n",
       "176         A5 2024-08-14         3.5         23.0        TA         R5\n",
       "177         A5 2024-08-14         2.5         18.0        TA         R5\n",
       "178         A5 2024-08-14         2.5         19.0        TA         R5\n",
       "179         A5 2024-08-14         2.5         17.0        TA         R5"
      ]
     },
     "execution_count": 9,
     "metadata": {},
     "output_type": "execute_result"
    }
   ],
   "source": [
    "df_pl.tail()"
   ]
  },
  {
   "cell_type": "markdown",
   "metadata": {},
   "source": [
    "#### Pemisahan Data Panjang Lele"
   ]
  },
  {
   "cell_type": "code",
   "execution_count": 10,
   "metadata": {},
   "outputs": [
    {
     "data": {
      "text/html": [
       "<div>\n",
       "<style scoped>\n",
       "    .dataframe tbody tr th:only-of-type {\n",
       "        vertical-align: middle;\n",
       "    }\n",
       "\n",
       "    .dataframe tbody tr th {\n",
       "        vertical-align: top;\n",
       "    }\n",
       "\n",
       "    .dataframe thead th {\n",
       "        text-align: right;\n",
       "    }\n",
       "</style>\n",
       "<table border=\"1\" class=\"dataframe\">\n",
       "  <thead>\n",
       "    <tr style=\"text-align: right;\">\n",
       "      <th></th>\n",
       "      <th>Identifier</th>\n",
       "      <th>Date</th>\n",
       "      <th>Treatment</th>\n",
       "      <th>Repetition</th>\n",
       "      <th>Length (cm)</th>\n",
       "    </tr>\n",
       "  </thead>\n",
       "  <tbody>\n",
       "    <tr>\n",
       "      <th>175</th>\n",
       "      <td>B2</td>\n",
       "      <td>2024-08-14</td>\n",
       "      <td>TB</td>\n",
       "      <td>R2</td>\n",
       "      <td>27.0</td>\n",
       "    </tr>\n",
       "    <tr>\n",
       "      <th>176</th>\n",
       "      <td>A5</td>\n",
       "      <td>2024-08-14</td>\n",
       "      <td>TA</td>\n",
       "      <td>R5</td>\n",
       "      <td>23.0</td>\n",
       "    </tr>\n",
       "    <tr>\n",
       "      <th>177</th>\n",
       "      <td>A5</td>\n",
       "      <td>2024-08-14</td>\n",
       "      <td>TA</td>\n",
       "      <td>R5</td>\n",
       "      <td>18.0</td>\n",
       "    </tr>\n",
       "    <tr>\n",
       "      <th>178</th>\n",
       "      <td>A5</td>\n",
       "      <td>2024-08-14</td>\n",
       "      <td>TA</td>\n",
       "      <td>R5</td>\n",
       "      <td>19.0</td>\n",
       "    </tr>\n",
       "    <tr>\n",
       "      <th>179</th>\n",
       "      <td>A5</td>\n",
       "      <td>2024-08-14</td>\n",
       "      <td>TA</td>\n",
       "      <td>R5</td>\n",
       "      <td>17.0</td>\n",
       "    </tr>\n",
       "  </tbody>\n",
       "</table>\n",
       "</div>"
      ],
      "text/plain": [
       "    Identifier       Date Treatment Repetition  Length (cm)\n",
       "175         B2 2024-08-14        TB         R2         27.0\n",
       "176         A5 2024-08-14        TA         R5         23.0\n",
       "177         A5 2024-08-14        TA         R5         18.0\n",
       "178         A5 2024-08-14        TA         R5         19.0\n",
       "179         A5 2024-08-14        TA         R5         17.0"
      ]
     },
     "execution_count": 10,
     "metadata": {},
     "output_type": "execute_result"
    }
   ],
   "source": [
    "data_panjang = df_pl[[\"Identifier\", \"Date\", \"Treatment\", \"Repetition\", \"Length (cm)\"]]\n",
    "data_panjang.tail()"
   ]
  },
  {
   "cell_type": "markdown",
   "metadata": {},
   "source": [
    "#### Pemisahan Data Lebar Lele"
   ]
  },
  {
   "cell_type": "code",
   "execution_count": 11,
   "metadata": {},
   "outputs": [
    {
     "data": {
      "text/html": [
       "<div>\n",
       "<style scoped>\n",
       "    .dataframe tbody tr th:only-of-type {\n",
       "        vertical-align: middle;\n",
       "    }\n",
       "\n",
       "    .dataframe tbody tr th {\n",
       "        vertical-align: top;\n",
       "    }\n",
       "\n",
       "    .dataframe thead th {\n",
       "        text-align: right;\n",
       "    }\n",
       "</style>\n",
       "<table border=\"1\" class=\"dataframe\">\n",
       "  <thead>\n",
       "    <tr style=\"text-align: right;\">\n",
       "      <th></th>\n",
       "      <th>Identifier</th>\n",
       "      <th>Date</th>\n",
       "      <th>Treatment</th>\n",
       "      <th>Repetition</th>\n",
       "      <th>Width (cm)</th>\n",
       "    </tr>\n",
       "  </thead>\n",
       "  <tbody>\n",
       "    <tr>\n",
       "      <th>175</th>\n",
       "      <td>B2</td>\n",
       "      <td>2024-08-14</td>\n",
       "      <td>TB</td>\n",
       "      <td>R2</td>\n",
       "      <td>4.0</td>\n",
       "    </tr>\n",
       "    <tr>\n",
       "      <th>176</th>\n",
       "      <td>A5</td>\n",
       "      <td>2024-08-14</td>\n",
       "      <td>TA</td>\n",
       "      <td>R5</td>\n",
       "      <td>3.5</td>\n",
       "    </tr>\n",
       "    <tr>\n",
       "      <th>177</th>\n",
       "      <td>A5</td>\n",
       "      <td>2024-08-14</td>\n",
       "      <td>TA</td>\n",
       "      <td>R5</td>\n",
       "      <td>2.5</td>\n",
       "    </tr>\n",
       "    <tr>\n",
       "      <th>178</th>\n",
       "      <td>A5</td>\n",
       "      <td>2024-08-14</td>\n",
       "      <td>TA</td>\n",
       "      <td>R5</td>\n",
       "      <td>2.5</td>\n",
       "    </tr>\n",
       "    <tr>\n",
       "      <th>179</th>\n",
       "      <td>A5</td>\n",
       "      <td>2024-08-14</td>\n",
       "      <td>TA</td>\n",
       "      <td>R5</td>\n",
       "      <td>2.5</td>\n",
       "    </tr>\n",
       "  </tbody>\n",
       "</table>\n",
       "</div>"
      ],
      "text/plain": [
       "    Identifier       Date Treatment Repetition  Width (cm)\n",
       "175         B2 2024-08-14        TB         R2         4.0\n",
       "176         A5 2024-08-14        TA         R5         3.5\n",
       "177         A5 2024-08-14        TA         R5         2.5\n",
       "178         A5 2024-08-14        TA         R5         2.5\n",
       "179         A5 2024-08-14        TA         R5         2.5"
      ]
     },
     "execution_count": 11,
     "metadata": {},
     "output_type": "execute_result"
    }
   ],
   "source": [
    "data_lebar = df_pl[[\"Identifier\", \"Date\", \"Treatment\", \"Repetition\", \"Width (cm)\"]]\n",
    "data_lebar.tail()"
   ]
  },
  {
   "cell_type": "markdown",
   "metadata": {},
   "source": [
    "### Data Bobot Lele"
   ]
  },
  {
   "cell_type": "code",
   "execution_count": 12,
   "metadata": {},
   "outputs": [
    {
     "data": {
      "text/html": [
       "<div>\n",
       "<style scoped>\n",
       "    .dataframe tbody tr th:only-of-type {\n",
       "        vertical-align: middle;\n",
       "    }\n",
       "\n",
       "    .dataframe tbody tr th {\n",
       "        vertical-align: top;\n",
       "    }\n",
       "\n",
       "    .dataframe thead th {\n",
       "        text-align: right;\n",
       "    }\n",
       "</style>\n",
       "<table border=\"1\" class=\"dataframe\">\n",
       "  <thead>\n",
       "    <tr style=\"text-align: right;\">\n",
       "      <th></th>\n",
       "      <th>Identifier</th>\n",
       "      <th>Date</th>\n",
       "      <th>Weight (gram)</th>\n",
       "      <th>Treatment</th>\n",
       "      <th>Repetition</th>\n",
       "    </tr>\n",
       "  </thead>\n",
       "  <tbody>\n",
       "    <tr>\n",
       "      <th>40</th>\n",
       "      <td>B5</td>\n",
       "      <td>2024-08-14</td>\n",
       "      <td>300</td>\n",
       "      <td>TB</td>\n",
       "      <td>R5</td>\n",
       "    </tr>\n",
       "    <tr>\n",
       "      <th>41</th>\n",
       "      <td>A2</td>\n",
       "      <td>2024-08-14</td>\n",
       "      <td>210</td>\n",
       "      <td>TA</td>\n",
       "      <td>R2</td>\n",
       "    </tr>\n",
       "    <tr>\n",
       "      <th>42</th>\n",
       "      <td>C4</td>\n",
       "      <td>2024-08-14</td>\n",
       "      <td>190</td>\n",
       "      <td>TC</td>\n",
       "      <td>R4</td>\n",
       "    </tr>\n",
       "    <tr>\n",
       "      <th>43</th>\n",
       "      <td>B2</td>\n",
       "      <td>2024-08-14</td>\n",
       "      <td>250</td>\n",
       "      <td>TB</td>\n",
       "      <td>R2</td>\n",
       "    </tr>\n",
       "    <tr>\n",
       "      <th>44</th>\n",
       "      <td>A5</td>\n",
       "      <td>2024-08-14</td>\n",
       "      <td>200</td>\n",
       "      <td>TA</td>\n",
       "      <td>R5</td>\n",
       "    </tr>\n",
       "  </tbody>\n",
       "</table>\n",
       "</div>"
      ],
      "text/plain": [
       "   Identifier       Date  Weight (gram) Treatment Repetition\n",
       "40         B5 2024-08-14            300        TB         R5\n",
       "41         A2 2024-08-14            210        TA         R2\n",
       "42         C4 2024-08-14            190        TC         R4\n",
       "43         B2 2024-08-14            250        TB         R2\n",
       "44         A5 2024-08-14            200        TA         R5"
      ]
     },
     "execution_count": 12,
     "metadata": {},
     "output_type": "execute_result"
    }
   ],
   "source": [
    "data_bobot = df_bobot\n",
    "data_bobot.tail()"
   ]
  },
  {
   "cell_type": "markdown",
   "metadata": {},
   "source": [
    "## Explorasi"
   ]
  },
  {
   "cell_type": "markdown",
   "metadata": {},
   "source": [
    "### Eksplorasi Data Panjang Lele"
   ]
  },
  {
   "cell_type": "code",
   "execution_count": 19,
   "metadata": {},
   "outputs": [
    {
     "data": {
      "text/plain": [
       "Treatment  Repetition  Date      \n",
       "TA         R1          2024-07-31    19.500\n",
       "                       2024-08-07    20.500\n",
       "                       2024-08-14    21.000\n",
       "           R2          2024-07-31    17.000\n",
       "                       2024-08-07    19.625\n",
       "                       2024-08-14    20.000\n",
       "           R3          2024-07-31    18.750\n",
       "                       2024-08-07    16.375\n",
       "                       2024-08-14    17.000\n",
       "           R4          2024-07-31    18.500\n",
       "                       2024-08-07    18.125\n",
       "                       2024-08-14    18.500\n",
       "           R5          2024-07-31    18.250\n",
       "                       2024-08-07    20.000\n",
       "                       2024-08-14    19.250\n",
       "TB         R1          2024-07-31    19.250\n",
       "                       2024-08-07    22.125\n",
       "                       2024-08-14    21.000\n",
       "           R2          2024-07-31    19.750\n",
       "                       2024-08-07    20.875\n",
       "                       2024-08-14    20.750\n",
       "           R3          2024-07-31    18.000\n",
       "                       2024-08-07    18.875\n",
       "                       2024-08-14    20.500\n",
       "           R4          2024-07-31    18.250\n",
       "                       2024-08-07    19.625\n",
       "                       2024-08-14    21.500\n",
       "           R5          2024-07-31    17.000\n",
       "                       2024-08-07    18.500\n",
       "                       2024-08-14    22.750\n",
       "TC         R1          2024-07-31    18.750\n",
       "                       2024-08-07    22.875\n",
       "                       2024-08-14    20.750\n",
       "           R2          2024-07-31    20.250\n",
       "                       2024-08-07    18.000\n",
       "                       2024-08-14    18.250\n",
       "           R3          2024-07-31    21.000\n",
       "                       2024-08-07    20.125\n",
       "                       2024-08-14    21.000\n",
       "           R4          2024-07-31    18.250\n",
       "                       2024-08-07    22.625\n",
       "                       2024-08-14    18.750\n",
       "           R5          2024-07-31    20.000\n",
       "                       2024-08-07    20.125\n",
       "                       2024-08-14    20.250\n",
       "Name: Length (cm), dtype: float64"
      ]
     },
     "execution_count": 19,
     "metadata": {},
     "output_type": "execute_result"
    }
   ],
   "source": [
    "data_panjang_by_repetition = data_panjang.groupby([\"Treatment\", \"Repetition\", \"Date\"])[\n",
    "    \"Length (cm)\"\n",
    "].mean()\n",
    "data_panjang_by_repetition"
   ]
  },
  {
   "cell_type": "markdown",
   "metadata": {},
   "source": [
    "## Eksplanasi"
   ]
  }
 ],
 "metadata": {
  "kernelspec": {
   "display_name": "venv",
   "language": "python",
   "name": "python3"
  },
  "language_info": {
   "codemirror_mode": {
    "name": "ipython",
    "version": 3
   },
   "file_extension": ".py",
   "mimetype": "text/x-python",
   "name": "python",
   "nbconvert_exporter": "python",
   "pygments_lexer": "ipython3",
   "version": "3.12.4"
  }
 },
 "nbformat": 4,
 "nbformat_minor": 2
}
